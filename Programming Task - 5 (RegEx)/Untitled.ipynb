{
 "cells": [
  {
   "cell_type": "markdown",
   "id": "c6358976",
   "metadata": {},
   "source": [
    "# Detect Floating Point Number\n",
    "\n"
   ]
  },
  {
   "cell_type": "code",
   "execution_count": null,
   "id": "87eb6f26",
   "metadata": {},
   "outputs": [],
   "source": [
    "import re\n",
    "\n",
    "pattern = r'^[+-]?\\d*\\.?\\d+$'\n",
    "\n",
    "for _ in range(int(input())):\n",
    "    num = input().strip()\n",
    "    print(bool(re.match(pattern, num)))\n"
   ]
  },
  {
   "cell_type": "markdown",
   "id": "c1131c06",
   "metadata": {},
   "source": [
    "# Re.split()"
   ]
  },
  {
   "cell_type": "code",
   "execution_count": 1,
   "id": "96d0cae6",
   "metadata": {},
   "outputs": [
    {
     "name": "stdout",
     "output_type": "stream",
     "text": [
      "100,000,000.000\n",
      "100\n",
      "000\n",
      "000\n",
      "000\n"
     ]
    }
   ],
   "source": [
    "regex_pattern = r\"[\\b\\W\\b]+\"\n",
    "\n",
    "import re\n",
    "print(\"\\n\".join(re.split(regex_pattern, input())))"
   ]
  },
  {
   "cell_type": "markdown",
   "id": "9242a800",
   "metadata": {},
   "source": [
    "# Group(), Groups() & Groupdict()\n",
    "\n"
   ]
  },
  {
   "cell_type": "code",
   "execution_count": 2,
   "id": "f51ebc3f",
   "metadata": {},
   "outputs": [
    {
     "name": "stdout",
     "output_type": "stream",
     "text": [
      "12345678910111213141516171820212223\n",
      "1\n"
     ]
    }
   ],
   "source": [
    "import re\n",
    "m = re.search(r\"([a-z0-9])\\1{1,}\", input())\n",
    "\n",
    "print(m.group()[0]) if m else print(-1)"
   ]
  },
  {
   "cell_type": "markdown",
   "id": "690ded72",
   "metadata": {},
   "source": [
    "# Re.findall() & Re.finditer()\n",
    "\n"
   ]
  },
  {
   "cell_type": "code",
   "execution_count": 3,
   "id": "8dddefe3",
   "metadata": {},
   "outputs": [
    {
     "name": "stdout",
     "output_type": "stream",
     "text": [
      "rabcdeefgyYhFjkIoomnpOeorteeeeet\n",
      "ee\n",
      "Ioo\n",
      "Oeo\n",
      "eeeee\n"
     ]
    }
   ],
   "source": [
    "import re\n",
    "s = str(input())\n",
    "s = s.strip(\"AEIOUaeiou\")\n",
    "result = re.findall(r\"[AEIOUaeiou]{2,}\",s)\n",
    "if not result:\n",
    "    print(-1)\n",
    "else:\n",
    "    [print(r) for r in result]"
   ]
  },
  {
   "cell_type": "markdown",
   "id": "f8a33193",
   "metadata": {},
   "source": [
    "# Re.start() & Re.end()\n",
    "\n"
   ]
  },
  {
   "cell_type": "code",
   "execution_count": 4,
   "id": "4fe4a1bc",
   "metadata": {},
   "outputs": [
    {
     "name": "stdout",
     "output_type": "stream",
     "text": [
      "aaadaa\n",
      "aa\n",
      "(0, 1)\n",
      "(1, 2)\n",
      "(4, 5)\n"
     ]
    }
   ],
   "source": [
    "import re\n",
    "s = input()\n",
    "\n",
    "print(*[(m.start(1), m.end(1) -1) for m in re.finditer(fr'(?=({input()}))', s)] or [(-1, -1)], sep='\\n')"
   ]
  },
  {
   "cell_type": "markdown",
   "id": "cb6da0cc",
   "metadata": {},
   "source": [
    "# Regex Substitution\n",
    "\n"
   ]
  },
  {
   "cell_type": "code",
   "execution_count": null,
   "id": "089c63a0",
   "metadata": {},
   "outputs": [],
   "source": [
    "import re\n",
    "\n",
    "for i in range(int(input())):\n",
    "    S = str(input())\n",
    "    S = re.sub(\"(?<=[ ])\\&\\&(?=[ ])\", \"and\", S)\n",
    "    S = re.sub(\"(?<=[ ])\\|\\|(?=[ ])\", \"or\", S)\n",
    "    print(S)"
   ]
  },
  {
   "cell_type": "markdown",
   "id": "4ff91d56",
   "metadata": {},
   "source": [
    "# Validating Roman Numerals"
   ]
  },
  {
   "cell_type": "code",
   "execution_count": null,
   "id": "39a478aa",
   "metadata": {},
   "outputs": [],
   "source": [
    "regex_pattern = r\"^M{0,3}(CM|CD|D?C{0,3})(XC|XL|L?X{0,3})(IX|IV|V?I{0,3})$\"\n",
    "\n",
    "import re\n",
    "print(str(bool(re.match(regex_pattern, input()))))"
   ]
  },
  {
   "cell_type": "markdown",
   "id": "68083ef5",
   "metadata": {},
   "source": [
    "# Validating phone numbers"
   ]
  },
  {
   "cell_type": "code",
   "execution_count": 6,
   "id": "73ff7046",
   "metadata": {},
   "outputs": [
    {
     "name": "stdout",
     "output_type": "stream",
     "text": [
      "2\n",
      "9587456281\n",
      "1252478965\n",
      "YES\n",
      "NO\n"
     ]
    }
   ],
   "source": [
    "import re\n",
    "print(*[ \"YES\" if re.match(r\"^[789]\\d{9}$\", input()) else \"NO\" for _ in range(int(input())) ],sep=\"\\n\")"
   ]
  },
  {
   "cell_type": "markdown",
   "id": "a7327e33",
   "metadata": {},
   "source": [
    "# Validating and Parsing Email Addresses"
   ]
  },
  {
   "cell_type": "code",
   "execution_count": null,
   "id": "5efaf4a8",
   "metadata": {},
   "outputs": [],
   "source": [
    "import re\n",
    "\n",
    "pattern = r'^[a-zA-Z][a-zA-Z0-9\\._-]*@[a-zA-Z]+\\.[a-zA-Z]{1,3}$'\n",
    "\n",
    "n = int(input())\n",
    "\n",
    "for i in range(n):\n",
    "    name, email = input().split(' ')\n",
    "    if re.match(pattern, email[1:-1]):\n",
    "        print(name + ' ' + email)\n"
   ]
  },
  {
   "cell_type": "markdown",
   "id": "d576c7c0",
   "metadata": {},
   "source": [
    "# Hex Color Code"
   ]
  },
  {
   "cell_type": "code",
   "execution_count": null,
   "id": "7c036ddc",
   "metadata": {},
   "outputs": [],
   "source": [
    "import re\n",
    "\n",
    "expression = \".#[0-9A-Fa-f]{3,6}\"\n",
    "\n",
    "for i in range(int(input())):\n",
    "    inpt = re.findall(expression, input())\n",
    "    \n",
    "    if inpt:\n",
    "        for j in inpt:\n",
    "            print(j[1:])"
   ]
  },
  {
   "cell_type": "markdown",
   "id": "df88f0db",
   "metadata": {},
   "source": [
    "# HTML Parser - Part 1\n",
    "\n"
   ]
  },
  {
   "cell_type": "code",
   "execution_count": null,
   "id": "08014b90",
   "metadata": {},
   "outputs": [],
   "source": [
    "import re\n",
    "from html.parser import HTMLParser\n",
    "class MyHTMLParser(HTMLParser):\n",
    "    def handle_starttag(self, tag, attrs):\n",
    "        print(\"Start :\", tag)\n",
    "        if attrs:\n",
    "            for x, y in attrs:\n",
    "                print(\"->\", x, '>', y)\n",
    "    def handle_endtag(self, tag):\n",
    "        print(\"End   :\", tag)\n",
    "    def handle_startendtag(self, tag, attrs):\n",
    "        print(\"Empty :\", tag)\n",
    "        if attrs:\n",
    "            for i, j in attrs:\n",
    "                print(\"->\", i, '>', j)\n",
    "\n",
    "num = int(input())\n",
    "s = str()\n",
    "for _ in range(num):\n",
    "    s += input()\n",
    "re.sub(r\"(?<=<!--).*(?=-->)\", \"\", s)\n",
    "temp = MyHTMLParser()\n",
    "temp.feed(s)"
   ]
  },
  {
   "cell_type": "markdown",
   "id": "db2965d1",
   "metadata": {},
   "source": [
    "# HTML Parser - Part 2"
   ]
  },
  {
   "cell_type": "code",
   "execution_count": null,
   "id": "521d636b",
   "metadata": {},
   "outputs": [],
   "source": [
    "from html.parser import HTMLParser\n",
    "\n",
    "class MyHTMLParser(HTMLParser):\n",
    "    def handle_comment(self, data):\n",
    "        if data != '\\n':\n",
    "            if \"\\n\" in data:\n",
    "                print(\">>> Multi-line Comment\")\n",
    "                print(data)\n",
    "            else:\n",
    "                print(\">>> Single-line Comment\")\n",
    "                print(data)\n",
    "    def handle_data(self, data):\n",
    "        if not data == '\\n':\n",
    "            print(f\">>> Data\")\n",
    "            print(data)\n",
    "            \n",
    "html = \"\"       \n",
    "for i in range(int(input())):\n",
    "    html += input().rstrip()\n",
    "    html += '\\n'\n",
    "    \n",
    "parser = MyHTMLParser()\n",
    "parser.feed(html)\n",
    "parser.close()"
   ]
  },
  {
   "cell_type": "markdown",
   "id": "cf145beb",
   "metadata": {},
   "source": [
    "# Detect HTML Tags, Attributes and Attribute Values\n",
    "\n"
   ]
  },
  {
   "cell_type": "code",
   "execution_count": null,
   "id": "d9fd5ae6",
   "metadata": {},
   "outputs": [],
   "source": [
    "from html.parser import HTMLParser\n",
    "\n",
    "class MyHTMLParser(HTMLParser):\n",
    "    def handle_starttag(self, tag, attrs):\n",
    "        print(tag)\n",
    "        for attr in attrs:\n",
    "            print(\"-> \"+attr[0]+\" >\", attr[1])\n",
    "html = \"\"       \n",
    "for i in range(int(input())):\n",
    "    html += input().rstrip()\n",
    "    html += '\\n'\n",
    "    \n",
    "parser = MyHTMLParser()\n",
    "parser.feed(html)\n",
    "parser.close()"
   ]
  },
  {
   "cell_type": "markdown",
   "id": "f5853ddd",
   "metadata": {},
   "source": [
    "# Validating UID"
   ]
  },
  {
   "cell_type": "code",
   "execution_count": null,
   "id": "0f90b35e",
   "metadata": {},
   "outputs": [],
   "source": [
    "import re\n",
    "\n",
    "T = int(input())\n",
    "for _ in range(T):\n",
    "    s = input()\n",
    "    result = 'Valid'\n",
    "    if len(re.findall(r'[A-Z]',s))<2:\n",
    "        result = 'Invalid'        \n",
    "    elif len(re.findall(r'[0-9]',s))<3:\n",
    "        result = 'Invalid'\n",
    "    elif not(re.match(r'^[a-zA-Z0-9]{10}$',s)):\n",
    "        result = 'Invalid'\n",
    "    elif (len(set(s))) != len(s):\n",
    "        result = 'Invalid'\n",
    "    print(result)"
   ]
  },
  {
   "cell_type": "markdown",
   "id": "37eac70b",
   "metadata": {},
   "source": [
    "# Validating Credit Card Numbers\n",
    "\n"
   ]
  },
  {
   "cell_type": "code",
   "execution_count": null,
   "id": "17a6f135",
   "metadata": {},
   "outputs": [],
   "source": [
    "import re\n",
    "for i in range(int(input())):\n",
    "    number=input()\n",
    "    if len(number)==16 or len(number)==19:\n",
    "        if re.match(r\"^[456][0-9]{15}\",number) or re.match(r\"^([456]\\d{3})\\-{1}(\\d){4}\\-{1}(\\d){4}\\-{1}(\\d){4}\",number):\n",
    "            if (\"-\" in number):\n",
    "                number=number.replace(\"-\",\"\")\n",
    "            val=0\n",
    "            for i in range(13):\n",
    "                if number[i]==number[i+1]==number[i+2]==number[i+3]:\n",
    "                    val=1\n",
    "                    print(\"Invalid\")\n",
    "                    break\n",
    "            if val==0:\n",
    "                print(\"Valid\")        \n",
    "        else:\n",
    "            print(\"Invalid\")\n",
    "    else:\n",
    "        print(\"Invalid\")"
   ]
  },
  {
   "cell_type": "markdown",
   "id": "a0be1f04",
   "metadata": {},
   "source": [
    "# Validating Postal Codes\n",
    "\n"
   ]
  },
  {
   "cell_type": "code",
   "execution_count": null,
   "id": "c4425a8a",
   "metadata": {},
   "outputs": [],
   "source": [
    "regex_integer_in_range = r\"^[1-9]\\d{5}$\"    # Do not delete 'r'.\n",
    "regex_alternating_repetitive_digit_pair = r\"(\\d)(?=\\d\\1)\"    # Do not delete 'r'.\n",
    "\n",
    "\n",
    "import re\n",
    "P = input()\n",
    "\n",
    "print (bool(re.match(regex_integer_in_range, P)) \n",
    "and len(re.findall(regex_alternating_repetitive_digit_pair, P)) < 2)"
   ]
  },
  {
   "cell_type": "markdown",
   "id": "c1daad93",
   "metadata": {},
   "source": [
    "# Matrix Script\n",
    "\n"
   ]
  },
  {
   "cell_type": "code",
   "execution_count": null,
   "id": "930d8464",
   "metadata": {},
   "outputs": [],
   "source": [
    "import re\n",
    "\n",
    "n, m = input().split()\n",
    "n, m = int(n), int(m)\n",
    "\n",
    "line_list = []\n",
    "for i in range(n):\n",
    "    line = input()\n",
    "    line_list.append(line)\n",
    "\n",
    "transposed_tuple_list = list(zip(*line_list))\n",
    "\n",
    "joined_string = ''\n",
    "for i in transposed_tuple_list:\n",
    "    joined_string = joined_string + ''.join(i)\n",
    "    \n",
    "print(re.sub(r'(?<=[a-zA-Z0-9])[!@#$%&\\s]+(?=[a-zA-Z0-9])', ' ', joined_string))"
   ]
  }
 ],
 "metadata": {
  "kernelspec": {
   "display_name": "Python 3 (ipykernel)",
   "language": "python",
   "name": "python3"
  },
  "language_info": {
   "codemirror_mode": {
    "name": "ipython",
    "version": 3
   },
   "file_extension": ".py",
   "mimetype": "text/x-python",
   "name": "python",
   "nbconvert_exporter": "python",
   "pygments_lexer": "ipython3",
   "version": "3.9.13"
  }
 },
 "nbformat": 4,
 "nbformat_minor": 5
}
