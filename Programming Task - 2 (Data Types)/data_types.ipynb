{
 "cells": [
  {
   "cell_type": "markdown",
   "metadata": {},
   "source": [
    "# Q1 Lists"
   ]
  },
  {
   "cell_type": "code",
   "execution_count": 3,
   "metadata": {},
   "outputs": [
    {
     "name": "stdout",
     "output_type": "stream",
     "text": [
      "12\n",
      "insert 0 5\n",
      "insert 1 10\n",
      "insert 0 6\n",
      "print\n",
      "[6, 5, 10]\n",
      "remove 6\n",
      "append 9\n",
      "append 1\n",
      "sort\n",
      "print\n",
      "[1, 5, 9, 10]\n",
      " pop\n",
      "reverse\n",
      "print\n",
      "[9, 5, 1]\n"
     ]
    }
   ],
   "source": [
    "N = int(input())\n",
    "li = []\n",
    "for i in range(N):\n",
    "    command = input().split()\n",
    "    if command[0] == 'insert':\n",
    "        li.insert(int(command[1]), int(command[2]))\n",
    "    elif command[0] == 'print':\n",
    "        print(li)\n",
    "    elif command[0] == 'remove':\n",
    "        li.remove(int(command[1]))\n",
    "    elif command[0] == 'append':\n",
    "        li.append(int(command[1]))\n",
    "    elif command[0] == 'sort':\n",
    "        li.sort()\n",
    "    elif command[0] == 'pop':\n",
    "        li.pop()\n",
    "    elif command[0] == 'reverse':\n",
    "        li.reverse()\n"
   ]
  },
  {
   "cell_type": "markdown",
   "metadata": {},
   "source": [
    "# Q2 List Comprehensions\n"
   ]
  },
  {
   "cell_type": "code",
   "execution_count": 4,
   "metadata": {},
   "outputs": [
    {
     "name": "stdout",
     "output_type": "stream",
     "text": [
      "1\n",
      "1\n",
      "1\n",
      "11\n",
      "[[0, 0, 0], [0, 0, 1], [0, 1, 0], [0, 1, 1], [1, 0, 0], [1, 0, 1], [1, 1, 0], [1, 1, 1]]\n"
     ]
    }
   ],
   "source": [
    "x = int(input())\n",
    "y = int(input())\n",
    "z = int(input())\n",
    "n = int(input())\n",
    "li = []\n",
    "for i in range(x+1):\n",
    "    for j in range(y+1):\n",
    "        for k in range(z+1):\n",
    "            if i+j+k != n:\n",
    "                li.append([i,j,k])       \n",
    "print(li)"
   ]
  },
  {
   "cell_type": "markdown",
   "metadata": {},
   "source": [
    "# Q3 Find the Runner-Up Score!\n",
    "\n"
   ]
  },
  {
   "cell_type": "code",
   "execution_count": 5,
   "metadata": {},
   "outputs": [
    {
     "name": "stdout",
     "output_type": "stream",
     "text": [
      "5\n",
      "2 3 6 6 5\n",
      "5\n"
     ]
    }
   ],
   "source": [
    "n = int(input())\n",
    "li = [int(x) for x in input().split()]\n",
    "li.sort()\n",
    "for i in range(n-1, -1, -1):\n",
    "    if (li[i-1] < li[i]):\n",
    "        print(li[i-1])\n",
    "        break\n"
   ]
  },
  {
   "cell_type": "markdown",
   "metadata": {},
   "source": [
    "# Q4 Nested Lists\n",
    "\n"
   ]
  },
  {
   "cell_type": "code",
   "execution_count": 6,
   "metadata": {},
   "outputs": [
    {
     "name": "stdout",
     "output_type": "stream",
     "text": [
      "5\n",
      "Harry\n",
      "27.21\n",
      "Berry\n",
      "37.21\n",
      "Tina\n",
      "37.2\n",
      "Akriti\n",
      "41\n",
      "Harsh\n",
      "39\n",
      "Tina\n"
     ]
    }
   ],
   "source": [
    "if __name__ == '__main__':\n",
    "    records = []\n",
    "    scores = []\n",
    "    for _ in range(int(input())):\n",
    "        name = input()\n",
    "        score = float(input()) \n",
    "        \n",
    "        records.append([name, score])     \n",
    "        scores.append(score)\n",
    "\n",
    "    scores = list(set(scores))\n",
    "    scores.remove(min(scores))\n",
    "      \n",
    "    for i,j in sorted(records):\n",
    "        if j == min(scores):\n",
    "            print(i)"
   ]
  },
  {
   "cell_type": "markdown",
   "metadata": {},
   "source": [
    "# Q5 Finding the percentage\n",
    "\n"
   ]
  },
  {
   "cell_type": "code",
   "execution_count": 7,
   "metadata": {},
   "outputs": [
    {
     "name": "stdout",
     "output_type": "stream",
     "text": [
      "3\n",
      "Krishna 67 68 69\n",
      "Arjun 70 98 63\n",
      "Malika 52 56 60\n",
      "Malika\n",
      "56.00\n"
     ]
    }
   ],
   "source": [
    "if __name__ == '__main__':\n",
    "    n = int(input())\n",
    "    student_marks = {}\n",
    "    for _ in range(n):\n",
    "        name, *line = input().split()\n",
    "        scores = list(map(float, line))\n",
    "        student_marks[name] = scores\n",
    "    query_name = input()\n",
    "    \n",
    "    marks=  student_marks[query_name]\n",
    "    \n",
    "    avg = sum(marks)/len(marks)\n",
    "    print (format(avg,\".2f\"))\n"
   ]
  },
  {
   "cell_type": "markdown",
   "metadata": {},
   "source": [
    "# Q6 Tuples\n",
    "\n"
   ]
  },
  {
   "cell_type": "code",
   "execution_count": 9,
   "metadata": {},
   "outputs": [
    {
     "name": "stdout",
     "output_type": "stream",
     "text": [
      "5\n",
      "1 2 3 4 5\n",
      "-5659871693760987716\n"
     ]
    }
   ],
   "source": [
    "n = int(input())\n",
    "li = [int(x) for x in input().split()]\n",
    "tpl = tuple(li)\n",
    "print(hash(tpl))"
   ]
  },
  {
   "cell_type": "markdown",
   "metadata": {},
   "source": [
    "# Q7 Introduction to Sets\n",
    "\n"
   ]
  },
  {
   "cell_type": "code",
   "execution_count": 10,
   "metadata": {},
   "outputs": [
    {
     "name": "stdout",
     "output_type": "stream",
     "text": [
      "10\n",
      "161 182 161 154 176 170 167 171 170 174\n",
      "169.375\n"
     ]
    }
   ],
   "source": [
    "def average(array):\n",
    "    return sum(set(array))/len(set(arr))\n",
    "if __name__ == '__main__':\n",
    "    n = int(input())\n",
    "    arr = list(map(int, input().split()))\n",
    "    result = average(arr)\n",
    "    print(result)"
   ]
  },
  {
   "cell_type": "markdown",
   "metadata": {},
   "source": [
    "# Q8 No Idea!\n",
    "\n"
   ]
  },
  {
   "cell_type": "code",
   "execution_count": 11,
   "metadata": {},
   "outputs": [
    {
     "name": "stdout",
     "output_type": "stream",
     "text": [
      "3 4\n",
      "1 2 3\n",
      "1 2 3 4\n",
      "1 2 3 4\n",
      "3\n"
     ]
    }
   ],
   "source": [
    "if __name__ == '__main__':\n",
    "    n, m = map(int, input().split())\n",
    "    arr = list(map(int, input().split()))\n",
    "    A = set(map(int, input().split()))\n",
    "    B = set(map(int, input().split()))\n",
    "    happiness = 0\n",
    "    \n",
    "    for i in arr:\n",
    "        if i in A:\n",
    "            happiness += 1\n",
    "        elif i in B:\n",
    "            happiness -= 1\n",
    "    \n",
    "    print(happiness)"
   ]
  },
  {
   "cell_type": "markdown",
   "metadata": {},
   "source": [
    "# Q9 Check Strict Superset"
   ]
  },
  {
   "cell_type": "code",
   "execution_count": null,
   "metadata": {},
   "outputs": [],
   "source": [
    "if __name__ == '__main__':\n",
    "    A = set(input().split())\n",
    "    n = int(input())\n",
    "    is_strict_superset = True\n",
    "    \n",
    "    for i in range(n):\n",
    "        B = set(input().split())\n",
    "        if not B.issubset(A) or B == A:\n",
    "            is_strict_superset = False\n",
    "            break\n",
    "    \n",
    "    print(is_strict_superset)"
   ]
  },
  {
   "cell_type": "markdown",
   "metadata": {},
   "source": [
    "# Q10 Symmetric Difference"
   ]
  },
  {
   "cell_type": "code",
   "execution_count": null,
   "metadata": {},
   "outputs": [],
   "source": [
    "if __name__ == '__main__':\n",
    "    m = int(input())\n",
    "    set1 = set(map(int, input().split()))\n",
    "    n = int(input())\n",
    "    set2 = set(map(int, input().split()))\n",
    "\n",
    "    symmetric_diff = sorted(list(set1.symmetric_difference(set2)))\n",
    "    \n",
    "    for num in symmetric_diff:\n",
    "        print(num)\n"
   ]
  },
  {
   "cell_type": "markdown",
   "metadata": {},
   "source": [
    "# Q11 Check Subset\n",
    "\n"
   ]
  },
  {
   "cell_type": "code",
   "execution_count": null,
   "metadata": {},
   "outputs": [],
   "source": [
    "if __name__ == '__main__':\n",
    "    T = int(input())\n",
    "\n",
    "    for i in range(T):\n",
    "        n = int(input())\n",
    "        set_a = set(map(int, input().split()))\n",
    "        m = int(input())\n",
    "        set_b = set(map(int, input().split()))\n",
    "\n",
    "        if set_a.issubset(set_b):\n",
    "            print(True)\n",
    "        else:\n",
    "            print(False)"
   ]
  },
  {
   "cell_type": "markdown",
   "metadata": {},
   "source": [
    "# Q12 Set .add()\n",
    "\n"
   ]
  },
  {
   "cell_type": "code",
   "execution_count": null,
   "metadata": {},
   "outputs": [],
   "source": [
    "n = int(input())\n",
    "st = set()\n",
    "for i in range(n):\n",
    "    st.add(input().strip())\n",
    "print(len(st))"
   ]
  },
  {
   "cell_type": "markdown",
   "metadata": {},
   "source": [
    "# Q13 Set .discard(), .remove() & .pop()\n",
    "\n"
   ]
  },
  {
   "cell_type": "code",
   "execution_count": null,
   "metadata": {},
   "outputs": [],
   "source": [
    "n = int(input())\n",
    "s = set(map(int, input().split()))\n",
    "k = int(input())\n",
    "\n",
    "for i in range(k):\n",
    "    cmd = input().split()\n",
    "    if cmd[0] == 'pop':\n",
    "        s.pop()\n",
    "    elif cmd[0] == 'remove':\n",
    "        s.remove(int(cmd[1]))\n",
    "    elif cmd[0] == 'discard':\n",
    "        s.discard(int(cmd[1]))\n",
    "\n",
    "print(sum(s))\n"
   ]
  },
  {
   "cell_type": "markdown",
   "metadata": {},
   "source": [
    "# Q14 Set .union() Operation\n",
    "\n"
   ]
  },
  {
   "cell_type": "code",
   "execution_count": null,
   "metadata": {},
   "outputs": [],
   "source": [
    "n = int(input())\n",
    "english = set(map(int, input().split()))\n",
    "m = int(input())\n",
    "french = set(map(int, input().split()))\n",
    "\n",
    "print(len(english.union(french)))"
   ]
  },
  {
   "cell_type": "markdown",
   "metadata": {},
   "source": [
    "# Q15 Set .intersection() Operation\n",
    "\n"
   ]
  },
  {
   "cell_type": "code",
   "execution_count": null,
   "metadata": {},
   "outputs": [],
   "source": [
    "n1 = int(input())\n",
    "set1 = set(map(int, input().split()))\n",
    "n2 = int(input())\n",
    "set2 = set(map(int, input().split()))\n",
    "\n",
    "# Find the intersection of the two sets\n",
    "common_set = set1.intersection(set2)\n",
    "\n",
    "# Print the size of the common set\n",
    "print(len(common_set))"
   ]
  },
  {
   "cell_type": "markdown",
   "metadata": {},
   "source": [
    "# Q16 Set .difference() Operation\n",
    "\n"
   ]
  },
  {
   "cell_type": "code",
   "execution_count": null,
   "metadata": {},
   "outputs": [],
   "source": [
    "n_eng = int(input())\n",
    "eng_subs = set(map(int, input().split()))\n",
    "n_frn = int(input()) \n",
    "frn_subs = set(map(int, input().split()))  \n",
    "\n",
    "eng_only_subs = len(eng_subs.difference(frn_subs))\n",
    "\n",
    "print(eng_only_subs)"
   ]
  },
  {
   "cell_type": "markdown",
   "metadata": {},
   "source": [
    "# Q17 Set .symmetric_difference() Operation "
   ]
  },
  {
   "cell_type": "code",
   "execution_count": null,
   "metadata": {},
   "outputs": [],
   "source": [
    "n = int(input())\n",
    "eng_subs = set(map(int, input().split()))\n",
    "m = int(input())\n",
    "fr_subs = set(map(int, input().split()))\n",
    "\n",
    "either_subs = eng_subs ^ fr_subs\n",
    "print(len(either_subs))"
   ]
  },
  {
   "cell_type": "markdown",
   "metadata": {},
   "source": [
    "# Q18 Set Mutations\n"
   ]
  },
  {
   "cell_type": "code",
   "execution_count": null,
   "metadata": {},
   "outputs": [],
   "source": [
    "n = int(input())\n",
    "s = set(map(int, input().split()))\n",
    "num_ops = int(input())\n",
    "\n",
    "for i in range(num_ops):\n",
    "    operation = input().split()[0]\n",
    "    other_set = set(map(int, input().split()))\n",
    "    \n",
    "    if operation == 'intersection_update':\n",
    "        s.intersection_update(other_set)\n",
    "    elif operation == 'update':\n",
    "        s.update(other_set)\n",
    "    elif operation == 'symmetric_difference_update':\n",
    "        s.symmetric_difference_update(other_set)\n",
    "    elif operation == 'difference_update':\n",
    "        s.difference_update(other_set)\n",
    "\n",
    "print(sum(s))"
   ]
  },
  {
   "cell_type": "markdown",
   "metadata": {},
   "source": [
    "# Q19 The Captain's Room\n"
   ]
  },
  {
   "cell_type": "code",
   "execution_count": null,
   "metadata": {},
   "outputs": [],
   "source": [
    "from collections import Counter\n",
    "\n",
    "k = int(input())\n",
    "room_list = list(map(int, input().split()))\n",
    "\n",
    "room_counts = Counter(room_list)\n",
    "\n",
    "for room, count in room_counts.items():\n",
    "    if count == 1:\n",
    "        print(room)\n",
    "        break\n"
   ]
  }
 ],
 "metadata": {
  "kernelspec": {
   "display_name": "Python 3 (ipykernel)",
   "language": "python",
   "name": "python3"
  },
  "language_info": {
   "codemirror_mode": {
    "name": "ipython",
    "version": 3
   },
   "file_extension": ".py",
   "mimetype": "text/x-python",
   "name": "python",
   "nbconvert_exporter": "python",
   "pygments_lexer": "ipython3",
   "version": "3.9.13"
  }
 },
 "nbformat": 4,
 "nbformat_minor": 2
}
